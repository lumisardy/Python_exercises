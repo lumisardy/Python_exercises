{
 "cells": [
  {
   "cell_type": "markdown",
   "metadata": {},
   "source": [
    "Comprobacion email"
   ]
  },
  {
   "cell_type": "code",
   "execution_count": null,
   "metadata": {},
   "outputs": [],
   "source": [
    "contador = 0\n",
    "contador_arroba = 0\n",
    "contador_punto = 0\n",
    "Email_Usuario = input(\"Pon tu email: \")\n",
    "\n",
    "for i in Email_Usuario:\n",
    "\n",
    "\tif i ==\"@\":\n",
    "\t\tcontador_arroba = contador_arroba + 1\n",
    " \n",
    "\tif i ==\".\":\n",
    "\t\tcontador_punto = contador_punto + 1\n",
    "\n",
    "if contador_arroba == 1 and contador_punto == 1:\n",
    "\t\tcontador = contador + 1\n",
    "\t\tprint (contador)\n",
    "\n",
    "\n",
    "\n",
    "if contador == 1:\n",
    "\tprint (\"Email correcto\")\n",
    "else:\n",
    "\tprint (\"email erroneo\")"
   ]
  },
  {
   "cell_type": "markdown",
   "metadata": {},
   "source": [
    "17"
   ]
  },
  {
   "cell_type": "code",
   "execution_count": null,
   "metadata": {},
   "outputs": [],
   "source": [
    "salario_oficial3=int(input(\"introduce salario oficial de tercera:\"))\n",
    "print(\"salario oficial de tercera: \" + str(salario_oficial3))\n",
    "\n",
    "\n",
    "salario_oficial2=int(input(\"introduce salario oficial de segunda:\"))\n",
    "print(\"salario oficial de segunda: \" + str(salario_oficial2))\n",
    "\n",
    "salario_oficial1=int(input(\"introduce salario oficial de primera:\"))\n",
    "print(\"salario oficial de primera: \" + str(salario_oficial1))\n",
    "\n",
    "salario_director=int(input(\"introduce salario director:\"))\n",
    "print(\"salario director: \" + str(salario_director))\n",
    "\n",
    "if salario_oficial3<salario_oficial2<salario_oficial1<salario_director:\n",
    "\tprint(\"Los salarios son los correspondientes\")\n",
    "else:\n",
    "\tprint (\"Los salarios no son los correspondientes\")"
   ]
  },
  {
   "cell_type": "markdown",
   "metadata": {},
   "source": [
    "18"
   ]
  },
  {
   "cell_type": "code",
   "execution_count": 1,
   "metadata": {},
   "outputs": [
    {
     "name": "stdout",
     "output_type": "stream",
     "text": [
      "Consulta de frutas disponibles\n",
      "Frutas: Manzana, Pera, limon, Naranja, sandia\n",
      "Si hay disponibles\n",
      "No hay disponibles\n"
     ]
    }
   ],
   "source": [
    "print (\"Consulta de frutas disponibles\")\n",
    "print (\"Frutas: Manzana, Pera, limon, Naranja, sandia\")\n",
    "opcion=input(\"Escribe la fruta que deseas: \")\n",
    "\n",
    "Fruta=opcion.lower()\n",
    "\n",
    "if Fruta in (\"manzana, pera, limon, sandia\"):\n",
    "\tprint(\"Si hay disponibles\")\n",
    "if Fruta in (\"Naranja\"):\n",
    "\tprint(\"No hay disponibles\")\n",
    "else:\n",
    "\tprint(\"No disponemos de esta fruta en el catalogo\")\n"
   ]
  },
  {
   "cell_type": "markdown",
   "metadata": {},
   "source": [
    "19"
   ]
  },
  {
   "cell_type": "code",
   "execution_count": null,
   "metadata": {},
   "outputs": [],
   "source": [
    "i=int(input(\"introduce edad:  \"))\n",
    "\n",
    "\n",
    "while i<0 or i>120:\n",
    "\tprint(\"Edad introducida erronea\")\n",
    "\ti=int(input(\"introduce edad:  \"))\n",
    "\n",
    "\n",
    "\n",
    "print (\"Edad de aspirante: \" + str(i))"
   ]
  },
  {
   "cell_type": "markdown",
   "metadata": {},
   "source": [
    "20"
   ]
  },
  {
   "cell_type": "code",
   "execution_count": null,
   "metadata": {},
   "outputs": [],
   "source": [
    "def devuelve_ciudades(*ciudades):\n",
    "    for elemento in ciudades:\n",
    "        #si quitas el from te coge la frase entera\n",
    "        yield from elemento\n",
    "\n",
    "ciudades_devueltas = devuelve_ciudades(\"Madrid\",\"Santader\",\"Cordoba\",\"Somalia\")\n",
    "print(next(ciudades_devueltas))"
   ]
  },
  {
   "cell_type": "markdown",
   "metadata": {},
   "source": [
    "21, 22"
   ]
  },
  {
   "cell_type": "code",
   "execution_count": 24,
   "metadata": {},
   "outputs": [
    {
     "name": "stdout",
     "output_type": "stream",
     "text": [
      "operacion erronea\n",
      "None\n"
     ]
    }
   ],
   "source": [
    "\n",
    "\n",
    "\n",
    "def dividir(num1,num2):\n",
    "    #al no poner el try y except al dividir por 0 da error y se cancela la ejecucion del programa\n",
    "    try:\n",
    "        return num1/num2\n",
    "    #asignas q si ocurre este error te imprima eso  \n",
    "    except ZeroDivisionError:\n",
    "        print(\"No se puede dividir al 0!\")\n",
    "    \n",
    "    except ValueError:\n",
    "        print(\"No se puede poner letras!\")\n",
    "    # Esto va a ocurrir siempre\n",
    "    finally:\n",
    "        print(\"calculo finalizado\")\n",
    "\n",
    "num1 = int(input(\"introduce numero\"))\n",
    "num2 = int(input(\"introduce numero\"))\n",
    "print(dividir(num1,num2))\n",
    "\n",
    "\n"
   ]
  },
  {
   "cell_type": "markdown",
   "metadata": {},
   "source": [
    "26 - 28"
   ]
  },
  {
   "cell_type": "code",
   "execution_count": 83,
   "metadata": {},
   "outputs": [
    {
     "name": "stdout",
     "output_type": "stream",
     "text": [
      "realizando chequeo\n",
      "El coche esta en marcha\n",
      "el coche tiene: 4 ruedas es de color: azul tiene una longitud de: 240 y tiene una potencia de: 120 CV\n",
      "--------A continuacion siguiente objeto------\n",
      "realizando chequeo\n",
      "el coche no esta en marcha\n",
      "el coche tiene: 4 ruedas es de color: azul tiene una longitud de: 240 y tiene una potencia de: 120 CV\n"
     ]
    }
   ],
   "source": [
    "class coche():\n",
    "    \n",
    "    #aqui guardas las caracteristicas variables del objeto\n",
    "    def __init__(self):\n",
    "        self.__longitud = 240\n",
    "        #Al poner dos guiones delante no se va apoder modificar desde fuera(\"esto es encapsular\")\n",
    "        self.__ruedas = 4\n",
    "        self.__color = \"azul\"\n",
    "        self.__caballos = 120\n",
    "        self.__enmarcha = False\n",
    "        \n",
    "    \n",
    "    def arrancar(self,arrancamos):\n",
    "        \n",
    "        self.__enmarcha = arrancamos\n",
    "        chequeo = self.__Chequeo_interno()\n",
    "        \n",
    "        if(self.__enmarcha and chequeo):\n",
    "            return \"El coche esta en marcha\"\n",
    "        elif(self.__enmarcha and chequeo == False):\n",
    "            return (\"algo ha ido mal en el chequeo\")\n",
    "        else:\n",
    "            return \"el coche no esta en marcha\"\n",
    "           \n",
    "                 \n",
    "    \n",
    "    def estado(self):\n",
    "        print(\"el coche tiene:\",self.__ruedas ,\"ruedas\",\"es de color:\",self.__color, \"tiene una longitud de:\",self.__longitud, \"y tiene una potencia de:\",self.__caballos,\"CV\")\n",
    "        \n",
    "    def __Chequeo_interno(self):\n",
    "        print(\"realizando chequeo\")\n",
    "        \n",
    "        self.gasolina = \"ok\"\n",
    "        self.aceite = \"ok\"\n",
    "        self.puertas = \"cerradas\"\n",
    "        \n",
    "        if(self.gasolina == \"ok\" and self.aceite == \"ok\" and self.puertas == \"cerradas\"):\n",
    "            return True\n",
    "        else:\n",
    "            return False\n",
    "            \n",
    "miCoche = coche()\n",
    "\n",
    "\n",
    "print(miCoche.arrancar(True))\n",
    "miCoche.estado()\n",
    "\n",
    "print(\"--------A continuacion siguiente objeto------\")\n",
    "\n",
    "miCoche2 = coche()\n",
    "print(miCoche2.arrancar(False))\n",
    "\n",
    "miCoche2.ruedas = 2\n",
    "\n",
    "miCoche2.estado()\n"
   ]
  },
  {
   "cell_type": "markdown",
   "metadata": {},
   "source": [
    "29 - 30"
   ]
  },
  {
   "cell_type": "code",
   "execution_count": 24,
   "metadata": {},
   "outputs": [
    {
     "name": "stdout",
     "output_type": "stream",
     "text": [
      "Marca: Honda \n",
      "Modelo: CNR \n",
      "En Marcha False \n",
      "Acelerando False \n",
      "Frenando False \n",
      " Haciendo caballito \n",
      "\n",
      "Marca: renault \n",
      "Modelo: Kango \n",
      "En Marcha True \n",
      "Acelerando False \n",
      "Frenando False \n",
      "\n",
      "La Furgoneta esta cargada\n",
      "Marca: HCR \n",
      "Modelo: TEY \n",
      "En Marcha False \n",
      "Acelerando False \n",
      "Frenando False \n",
      "\n"
     ]
    }
   ],
   "source": [
    "class Vehiculos():\n",
    "    def __init__(self,marca,modelo):\n",
    "        self.marca = marca\n",
    "        self.modelo = modelo\n",
    "        self.enmarcha = False\n",
    "        self.acelera = False\n",
    "        self.frena = False\n",
    "        \n",
    "    def arrancar(self):\n",
    "        self.enmarcha = True\n",
    "    def acelerar(self):\n",
    "        self.acelera = True\n",
    "    def frenar(self):\n",
    "        self.frena = True\n",
    "    def Estado(self):\n",
    "        print(\"Marca:\",self.marca,\"\\nModelo:\",self.modelo,\"\\nEn Marcha\",self.enmarcha,\"\\nAcelerando\",self.acelera,\"\\nFrenando\",self.frena,\"\\n\")\n",
    "\n",
    "class Furgoneta(Vehiculos):\n",
    "    \n",
    "   \n",
    "    def Carga(self,cargar):\n",
    "        self.Cargado = cargar\n",
    "        if(self.Cargado):\n",
    "            return \"La Furgoneta esta cargada\"\n",
    "        else:\n",
    "            return \"La furgoneta no esta cargada\"\n",
    "            \n",
    "\n",
    "#al poner entre los parentesis la clase vehiculos le estas dando la herencia     \n",
    "class Moto(Vehiculos):\n",
    "   \n",
    "    hcaballito =\"\"\n",
    "    def caballito(self):\n",
    "        self.hcaballito=\"Haciendo caballito\"\n",
    "    def Estado(self):\n",
    "        print(\"Marca:\",self.marca,\"\\nModelo:\",self.modelo,\"\\nEn Marcha\",self.enmarcha,\"\\nAcelerando\",self.acelera,\"\\nFrenando\",self.frena,\"\\n\",self.hcaballito,\"\\n\")\n",
    "\n",
    "class Velectricos(Vehiculos):\n",
    "    \n",
    "    def __init__(self,marca,modelo):\n",
    "        \n",
    "        super().__init__(marca,modelo)\n",
    "        self.autonomia = 100\n",
    "        \n",
    "    def cargarenergia(self):\n",
    "        self.cargando = True\n",
    "\n",
    "# Dependiendo de que clase pongas delante o despues hereda las caracteriscas de esa clase\n",
    "class Bicicletaeletrica(Velectricos,Vehiculos):\n",
    "    def Estado(self):\n",
    "        return super().Estado()\n",
    "    \n",
    "\n",
    "mibici = Bicicletaeletrica(\"HCR\",\"TEY\")\n",
    "\n",
    "Mimoto = Moto(\"Honda\",\"CNR\")\n",
    "Mimoto.caballito()\n",
    "Mimoto.Estado()\n",
    "\n",
    "Mifurgoneta = Furgoneta(\"renault\",\"Kango\")\n",
    "Mifurgoneta.arrancar()\n",
    "Mifurgoneta.Estado()\n",
    "print(Mifurgoneta.Carga(True))\n",
    "\n",
    "mibici.Estado()"
   ]
  },
  {
   "cell_type": "markdown",
   "metadata": {},
   "source": [
    "31"
   ]
  },
  {
   "cell_type": "code",
   "execution_count": 1,
   "metadata": {},
   "outputs": [
    {
     "name": "stdout",
     "output_type": "stream",
     "text": [
      "Nombre:  Antonio \n",
      "Edad:  52 \n",
      "Lugar de residencia:  Corrales\n",
      "Salario:  1550 \n",
      "Antiguedad 15\n",
      "True\n"
     ]
    }
   ],
   "source": [
    "class persona():\n",
    "    def __init__(self,nombre,edad,Lugar_residedncia):\n",
    "        self.nombre = nombre\n",
    "        self.edad = edad\n",
    "        self.Lugar_residencia = Lugar_residedncia\n",
    "    \n",
    "    def descripcion(self):\n",
    "        print(\"Nombre: \",self.nombre, \"\\nEdad: \",self.edad,\"\\nLugar de residencia: \",self.Lugar_residencia)\n",
    "   \n",
    "   \n",
    "     \n",
    "class empleado(persona):\n",
    "    def __init__(self, salario,antiguedad,nombre_empleado,edad_empleado,residencia_empleado):\n",
    "        \n",
    "        # Esta llamando al metodo init de la clase padre, y gracias a esto le pasamos los datos que necesita\n",
    "        super().__init__(nombre_empleado,edad_empleado,residencia_empleado)\n",
    "        \n",
    "        self.salario = salario\n",
    "        self.antiguedad = antiguedad\n",
    "    \n",
    "    def descripcion(self):\n",
    "        super().descripcion()\n",
    "        print(\"Salario: \",self.salario,\"\\nAntiguedad\", self.antiguedad)\n",
    "    \n",
    "Antonio = empleado(1550,15,\"Antonio\", 52, \"Corrales\")\n",
    "Antonio.descripcion()\n",
    "\n",
    "# isinstance te dice si esa variable pertence a esa clase, te de vuelve true o false\n",
    "print(isinstance(Antonio,persona))"
   ]
  },
  {
   "cell_type": "markdown",
   "metadata": {},
   "source": [
    "32"
   ]
  },
  {
   "cell_type": "code",
   "execution_count": 26,
   "metadata": {},
   "outputs": [
    {
     "name": "stdout",
     "output_type": "stream",
     "text": [
      "tengo 2 ruedas\n"
     ]
    }
   ],
   "source": [
    "class Moto():\n",
    "    def desplazamiento(self):\n",
    "        print(\"tengo 2 ruedas\")\n",
    "class Coche():\n",
    "    def desplazamiento(self):\n",
    "        print(\"tengo 4 ruedas\")\n",
    "class Camion():\n",
    "    def desplazamiento(self):\n",
    "        print(\"tengo 6 ruedas\")\n",
    "    \n",
    "def DesplazamientoVehiculos(Vehiculo):\n",
    "    Vehiculo.desplazamiento()\n",
    "\n",
    "mivehiculo = Moto()\n",
    "\n",
    "DesplazamientoVehiculos(mivehiculo)"
   ]
  },
  {
   "cell_type": "markdown",
   "metadata": {},
   "source": [
    "33 conversores de strings"
   ]
  },
  {
   "cell_type": "code",
   "execution_count": 32,
   "metadata": {},
   "outputs": [
    {
     "name": "stdout",
     "output_type": "stream",
     "text": [
      "False\n",
      "Por favor, introduce un valor numerico\n",
      "Por favor, introduce un valor numerico\n",
      "Por favor, introduce un valor numerico\n",
      "Por favor, introduce un valor numerico\n",
      "Por favor, introduce un valor numerico\n",
      "puedes pasar\n"
     ]
    }
   ],
   "source": [
    "# upper = convierte en mayusculas todas las letras. \n",
    "# lower = a minusculas. \n",
    "# capitalize = pone mayusculas la primera letra\n",
    "#count = cuantas veces aparece un numero de letras\n",
    "# find = representa la posicion en la cual aparece un caracter\n",
    "#isdigt = nos devuelve true or false en funcion si es un digito o no\n",
    "#isalum = si es alphanumericos\n",
    "#isalpha = si hay solo letras los espacios no cuentan\n",
    "#split = separa por palabras usando espacios\n",
    "#strip = borra espacios sobrantes al principio y al final\n",
    "#replace = cambia una palbara o una letra por otra\n",
    "#rfind = lo mismo que find, pero lo hace contando desde atras\n",
    "\n",
    "\n",
    "edad = input(\"introduce tu edad: \")\n",
    "print(edad.isdigit())\n",
    "\n",
    "while edad.isdigit() == False:\n",
    "    print(\"Por favor, introduce un valor numerico\")\n",
    "    edad = input(\"introduce tu edad: \")\n",
    "    \n",
    "if int(edad)<18:\n",
    "    print(\"no puede pasar\")\n",
    "else:\n",
    "    print(\"puedes pasar\")"
   ]
  },
  {
   "cell_type": "markdown",
   "metadata": {},
   "source": [
    "34 - 35"
   ]
  },
  {
   "cell_type": "code",
   "execution_count": 36,
   "metadata": {},
   "outputs": [
    {
     "data": {
      "text/plain": [
       "<tkinter.Tk object .>"
      ]
     },
     "execution_count": 36,
     "metadata": {},
     "output_type": "execute_result"
    }
   ],
   "source": [
    "#Se habla de mecanica de el import, como la se y no tiene mas ps asi se queda jijijija\n",
    "import tkinter as tk\n",
    "from tkinter import Tk\n",
    "\n",
    "#asterisco para importar todas las librarias\n",
    "from tkinter import *\n",
    "\n",
    "Tk()\n",
    "\n",
    "# si las librerias las tienes tu en una carpeta siempre le pones la ruta hasta el archivo que buscas"
   ]
  },
  {
   "cell_type": "markdown",
   "metadata": {},
   "source": [
    "36"
   ]
  },
  {
   "cell_type": "code",
   "execution_count": null,
   "metadata": {},
   "outputs": [],
   "source": [
    "#esta practica es para porder leer los archivos desde cualquier lado(me la pela)"
   ]
  },
  {
   "cell_type": "markdown",
   "metadata": {},
   "source": [
    "37 - 38"
   ]
  },
  {
   "cell_type": "code",
   "execution_count": 47,
   "metadata": {},
   "outputs": [
    {
     "name": "stdout",
     "output_type": "stream",
     "text": [
      "Hoy es dia de la paja\n"
     ]
    },
    {
     "data": {
      "text/plain": [
       "<function TextIOWrapper.close()>"
      ]
     },
     "execution_count": 47,
     "metadata": {},
     "output_type": "execute_result"
    }
   ],
   "source": [
    "#esto es una libreria para abrir archivos leer escribir etc como una base de datos \n",
    "#para usar este tipo de funciones tienes que hacerlo en un archivo py no en uno de pruebas como este\n",
    "from io import open\n",
    "#aqui le dices el archivo y que quieres hacer en el (r = read, r+ = read and write,  w = write, a = append (es para agregar texto) )\n",
    "archivo_texto = open(\"archivo.txt\",\"w\")\n",
    "\n",
    "frase = \"Hoy es dia de la paja\"\n",
    "archivo_texto.write(frase)\n",
    "#despues de manipular archivo hay que cerralo\n",
    "archivo_texto.close\n",
    "\n",
    "\n",
    "archivo_texto = open(\"archivo.txt\",\"r\")\n",
    "\n",
    "#si le poner una cifra dentro del reed leera hasta el valor que tu le hayas metido\n",
    "texto = archivo_texto.read()\n",
    "\n",
    "\n",
    "# esto situa el cursor en donde quieres que empiece a leer\n",
    "archivo_texto.seek(len(archivo_texto.read())/2)\n",
    "\n",
    "\n",
    "print(texto)\n",
    "archivo_texto.close\n",
    "\n",
    "# tambien esta el readlines[0,1,2,3,] que es para leer la linea en concreto"
   ]
  },
  {
   "cell_type": "markdown",
   "metadata": {},
   "source": [
    "hasta aqui pildoras informaticas me paso a otro tio que es mas nuevo ya que pildoras es de hace 7 años y para librerias han sacado muchas mejores y las que usa son arcaicas xd"
   ]
  }
 ],
 "metadata": {
  "kernelspec": {
   "display_name": "Python 3",
   "language": "python",
   "name": "python3"
  },
  "language_info": {
   "codemirror_mode": {
    "name": "ipython",
    "version": 3
   },
   "file_extension": ".py",
   "mimetype": "text/x-python",
   "name": "python",
   "nbconvert_exporter": "python",
   "pygments_lexer": "ipython3",
   "version": "3.12.4"
  }
 },
 "nbformat": 4,
 "nbformat_minor": 2
}
