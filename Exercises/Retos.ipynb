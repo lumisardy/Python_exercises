{
 "cells": [
  {
   "cell_type": "code",
   "execution_count": null,
   "metadata": {},
   "outputs": [
    {
     "name": "stdout",
     "output_type": "stream",
     "text": [
      "tkinter está instalado correctamente.\n"
     ]
    }
   ],
   "source": [
    "try:\n",
    "    import tkinter\n",
    "    print(\"tkinter está instalado correctamente.\")\n",
    "except ImportError:\n",
    "    print(\"tkinter no está instalado.\")"
   ]
  },
  {
   "cell_type": "markdown",
   "metadata": {},
   "source": [
    "cambio numero por palabra"
   ]
  },
  {
   "cell_type": "code",
   "execution_count": null,
   "metadata": {},
   "outputs": [],
   "source": [
    "number = 0\n",
    "\n",
    "for number in range(1,100):\n",
    "   \n",
    "    if number % 3 == 0 and number % 5 ==0:\n",
    "        print(\"fizzbuzz\")\n",
    "    \n",
    "    elif number  % 3 == 0:\n",
    "        print(\"fizz\")\n",
    "        \n",
    "    elif number % 5 ==0:\n",
    "        print(\"buzz\")\n",
    "\n",
    "    else:\n",
    "        print(number)\n",
    "    \n",
    "   \n",
    "\n",
    "\n",
    "\n",
    "\n",
    "\n",
    "    "
   ]
  },
  {
   "cell_type": "markdown",
   "metadata": {},
   "source": [
    "Anagramas"
   ]
  },
  {
   "cell_type": "code",
   "execution_count": 61,
   "metadata": {},
   "outputs": [
    {
     "name": "stdout",
     "output_type": "stream",
     "text": [
      "True\n"
     ]
    }
   ],
   "source": [
    "def anagramas(palabra1,palabra2):\n",
    "    \n",
    "    if palabra1 == palabra2:\n",
    "        return False\n",
    "    \n",
    "    lista1 = sorted(palabra1)\n",
    "    lista2 = sorted(palabra2)\n",
    "    \n",
    "    return lista1 == lista2\n",
    "\n",
    "print (anagramas(\"amor\",\"roma\"))\n",
    "    "
   ]
  },
  {
   "cell_type": "markdown",
   "metadata": {},
   "source": [
    "Fibonacci"
   ]
  },
  {
   "cell_type": "code",
   "execution_count": null,
   "metadata": {},
   "outputs": [],
   "source": [
    "def fibonacci(n):\n",
    "    fib_sequence = []\n",
    "    a, b = 0, 1\n",
    "    while len(fib_sequence) < n:\n",
    "        fib_sequence.append(a)\n",
    "        a,  b, a + b\n",
    "    return fib_sequence\n",
    "\n",
    "# Generar los primeros 50 números de la sucesión de Fibonacci\n",
    "fibonacci_sequence = fibonacci(50)\n",
    "\n",
    "# Imprimir los 50 primeros números de la sucesión de Fibonacci\n",
    "for index, number in enumerate(fibonacci_sequence):\n",
    "    print(f\"{number}\")\n"
   ]
  },
  {
   "cell_type": "markdown",
   "metadata": {},
   "source": [
    "Numeros Primos"
   ]
  },
  {
   "cell_type": "code",
   "execution_count": null,
   "metadata": {},
   "outputs": [],
   "source": [
    "for numero in range(1, 100):\n",
    "       \n",
    "        if numero <= 3 or numero == 5 or numero == 7:\n",
    "           print (numero)\n",
    "        else: \n",
    "            if numero % 2 != 0 and numero % 3 != 0 and numero % 5 != 0 and numero % 7 != 0:\n",
    "                print (numero)\n",
    "    \n",
    "        \n",
    "        "
   ]
  },
  {
   "cell_type": "code",
   "execution_count": 10,
   "metadata": {},
   "outputs": [
    {
     "name": "stdout",
     "output_type": "stream",
     "text": [
      "16\n"
     ]
    }
   ],
   "source": [
    "\n",
    "Forma=input(\"escoge la forma 1: cuadrado, 2: rectangulo 3: triangulo\")\n",
    "Base=int(input(\"Base del poligono\"))\n",
    "altura=int(input(\"altura del poligono\"))\n",
    "\n",
    "def calculo_poligonos(Base,altura,Forma):\n",
    "        if Forma == '1':\n",
    "           resultado = Base * altura\n",
    "           return resultado\n",
    "        if Forma == '2':\n",
    "           resultado = Base * altura\n",
    "           return resultado\n",
    "        if Forma == '3':\n",
    "           resultado = Base * altura//2\n",
    "           return resultado\n",
    "   \n",
    "\n",
    "print(calculo_poligonos(Base,altura,Forma))\n",
    "\n"
   ]
  },
  {
   "cell_type": "markdown",
   "metadata": {},
   "source": [
    "Invertir palabras"
   ]
  },
  {
   "cell_type": "code",
   "execution_count": 23,
   "metadata": {},
   "outputs": [
    {
     "name": "stdout",
     "output_type": "stream",
     "text": [
      "aloH\n"
     ]
    }
   ],
   "source": [
    "def invertir_cadena(cadena):\n",
    "    # Inicializar una cadena vacía para almacenar el resultado\n",
    "    cadena_invertida = \"\"\n",
    "    # Iterar sobre la cadena original desde el último carácter hasta el primero\n",
    "    for i in range(len(cadena) - 1, -1, -1):\n",
    "        # Agregar el carácter actual a la cadena invertida\n",
    "        cadena_invertida += cadena[i]\n",
    "    return cadena_invertida\n",
    "\n",
    "# Ejemplo de uso\n",
    "texto = \"Hola\"\n",
    "texto_invertido = invertir_cadena(texto)\n",
    "print(texto_invertido)  # Debería imprimir \"aloH\"\n"
   ]
  },
  {
   "cell_type": "markdown",
   "metadata": {},
   "source": [
    "Decimal a binario"
   ]
  },
  {
   "cell_type": "code",
   "execution_count": 41,
   "metadata": {},
   "outputs": [
    {
     "name": "stdout",
     "output_type": "stream",
     "text": [
      "El número decimal 15 en binario es 1111\n"
     ]
    }
   ],
   "source": [
    "numero_decimal = int(input(\"introduce numero\"))\n",
    "\n",
    "def decimal_a_binario(numero_decimal):\n",
    "    if numero_decimal == 0:\n",
    "        return \"0\"\n",
    "    \n",
    "    binario = \"\"\n",
    "    while numero_decimal > 0:\n",
    "        residuo = numero_decimal % 2\n",
    "        numero_decimal = numero_decimal // 2\n",
    "        binario = str(residuo) + binario\n",
    "    \n",
    "    return binario\n",
    "\n",
    "# Ejemplo de uso\n",
    "numero_binario = decimal_a_binario(numero_decimal)\n",
    "print(f\"El número decimal {numero_decimal} en binario es {numero_binario}\")\n",
    "\n",
    "\n"
   ]
  },
  {
   "cell_type": "markdown",
   "metadata": {},
   "source": [
    "Eliminando caracteres"
   ]
  },
  {
   "cell_type": "code",
   "execution_count": 34,
   "metadata": {},
   "outputs": [
    {
     "name": "stdout",
     "output_type": "stream",
     "text": [
      "Out1: brcdbr\n",
      "Out2: lkzm\n"
     ]
    }
   ],
   "source": [
    "def diferencias_cadenas(str1, str2):\n",
    "    # Convertir las cadenas a conjuntos de caracteres\n",
    "    set1 = set(str1)\n",
    "    set2 = set(str2)\n",
    "    \n",
    "    # Caracteres en str1 que no están en str2\n",
    "    out1 = ''.join([cha for cha in str1 if cha not in set2])\n",
    "    \n",
    "    # Caracteres en str2 que no están en str1\n",
    "    out2 = ''.join([cha for cha in str2 if cha not in set1])\n",
    "    \n",
    "    return out1, out2\n",
    "\n",
    "# Ejemplo de uso\n",
    "cadena1 = \"abracadabra\"\n",
    "cadena2 = \"alakazam\"\n",
    "out1, out2 = diferencias_cadenas(cadena1, cadena2)\n",
    "print(f\"Out1: {out1}\")  # Debería imprimir \"brcbr\"\n",
    "print(f\"Out2: {out2}\")  # Debería imprimir \"lkzm\"\n"
   ]
  },
  {
   "cell_type": "markdown",
   "metadata": {},
   "source": [
    "Numeros Factoriales"
   ]
  },
  {
   "cell_type": "code",
   "execution_count": 1,
   "metadata": {},
   "outputs": [
    {
     "name": "stdout",
     "output_type": "stream",
     "text": [
      "24\n"
     ]
    }
   ],
   "source": [
    "numero = int(input(\"introduzca un numero\"))\n",
    "\n",
    "\n",
    "def numeros_factoriales(numero):\n",
    "    if numero == 0 or numero == 1:\n",
    "        return 1\n",
    "    else:\n",
    "        return numero * numeros_factoriales(numero - 1)\n",
    "        \n",
    "\n",
    "print(numeros_factoriales(numero))"
   ]
  },
  {
   "cell_type": "code",
   "execution_count": 10,
   "metadata": {},
   "outputs": [
    {
     "ename": "TypeError",
     "evalue": "numeros_armstrong() takes 0 positional arguments but 1 was given",
     "output_type": "error",
     "traceback": [
      "\u001b[1;31m---------------------------------------------------------------------------\u001b[0m",
      "\u001b[1;31mTypeError\u001b[0m                                 Traceback (most recent call last)",
      "Cell \u001b[1;32mIn[10], line 8\u001b[0m\n\u001b[0;32m      4\u001b[0m     numero_de_digitos \u001b[38;5;241m=\u001b[39m separado\n\u001b[0;32m      5\u001b[0m     suma \u001b[38;5;241m=\u001b[39m \u001b[38;5;28msum\u001b[39m(\u001b[38;5;28mint\u001b[39m(digito) \u001b[38;5;241m*\u001b[39m\u001b[38;5;241m*\u001b[39m numero_de_digitos \u001b[38;5;28;01mfor\u001b[39;00m digito \u001b[38;5;129;01min\u001b[39;00m separado)\n\u001b[1;32m----> 8\u001b[0m \u001b[38;5;28;01mif\u001b[39;00m \u001b[43mnumeros_armstrong\u001b[49m\u001b[43m(\u001b[49m\u001b[43mnumero\u001b[49m\u001b[43m)\u001b[49m:\n\u001b[0;32m      9\u001b[0m     \u001b[38;5;28mprint\u001b[39m(\u001b[38;5;124mf\u001b[39m\u001b[38;5;124m\"\u001b[39m\u001b[38;5;132;01m{\u001b[39;00mnumero\u001b[38;5;132;01m}\u001b[39;00m\u001b[38;5;124m es un número de Armstrong\u001b[39m\u001b[38;5;124m\"\u001b[39m)\n\u001b[0;32m     10\u001b[0m \u001b[38;5;28;01melse\u001b[39;00m:\n",
      "\u001b[1;31mTypeError\u001b[0m: numeros_armstrong() takes 0 positional arguments but 1 was given"
     ]
    }
   ],
   "source": [
    "numero = input(\"introduzca un numero\")\n",
    "def  numeros_armstrong():\n",
    "    separado = len(numero)\n",
    "    numero_de_digitos = separado\n",
    "    suma = sum(int(digito) ** numero_de_digitos for digito in separado)\n",
    "        \n",
    "\n",
    "if numeros_armstrong(numero):\n",
    "    print(f\"{numero} es un número de Armstrong\")\n",
    "else:\n",
    "    print(f\"{numero} no es un número de Armstrong\")\n",
    "\n",
    "    "
   ]
  },
  {
   "cell_type": "code",
   "execution_count": 17,
   "metadata": {},
   "outputs": [
    {
     "name": "stdout",
     "output_type": "stream",
     "text": [
      "253 no es un número de Armstrong\n"
     ]
    }
   ],
   "source": [
    "def es_numero_de_armstrong(numero):\n",
    "    # Convertir el número a una cadena para poder iterar sobre los dígitos\n",
    "    digitos = str(numero)\n",
    "    # Calcular la cantidad de dígitos\n",
    "    num_digitos = len(digitos)\n",
    "    # Calcular la suma de los dígitos elevados a la potencia del número de dígitos\n",
    "    suma = sum(int(digito) ** num_digitos for digito in digitos)\n",
    "    # Comparar la suma con el número original\n",
    "    return suma == numero\n",
    "\n",
    "# Ejemplo de uso:\n",
    "numero = input(\"introduzca numero\")\n",
    "if es_numero_de_armstrong(numero):\n",
    "    print(f\"{numero} es un número de Armstrong\")\n",
    "else:\n",
    "    print(f\"{numero} no es un número de Armstrong\")\n"
   ]
  },
  {
   "cell_type": "code",
   "execution_count": 22,
   "metadata": {},
   "outputs": [
    {
     "name": "stdout",
     "output_type": "stream",
     "text": [
      "Esto Es Un Ejemplo De Cadena\n"
     ]
    }
   ],
   "source": [
    "def capitalize_first_letter(text):\n",
    "    result = \"\"\n",
    "    capitalize_next = True\n",
    "    \n",
    "    for char in text:\n",
    "        if char.isspace():\n",
    "            capitalize_next = True\n",
    "            result += char\n",
    "        elif capitalize_next:\n",
    "            result += char.upper()\n",
    "            capitalize_next = False\n",
    "        else:\n",
    "            result += char.lower()\n",
    "\n",
    "    return result\n",
    "\n",
    "# Ejemplo de uso:\n",
    "cadena = \"esto es un ejemplo de cadena\"\n",
    "print(capitalize_first_letter(cadena))\n",
    "\n",
    "\n"
   ]
  },
  {
   "cell_type": "markdown",
   "metadata": {},
   "source": [
    "Conversor de tiempo"
   ]
  },
  {
   "cell_type": "code",
   "execution_count": 62,
   "metadata": {},
   "outputs": [
    {
     "name": "stdout",
     "output_type": "stream",
     "text": [
      "Es un total de: 1814000 milisegundos\n"
     ]
    }
   ],
   "source": [
    "def Conversor(segundos,minutos,horas,dias):\n",
    "\n",
    "    if segundos >= 0 and minutos >= 0 and horas >= 0 and dias >= 0:\n",
    "        segundos = segundos * 1000\n",
    "        minutos = minutos * 6000\n",
    "        horas = horas * 36000\n",
    "        dias = dias * 864000\n",
    "    else:\n",
    "        return print(\"Datos erroneos\")\n",
    "        \n",
    "    \n",
    "    milisegundos = segundos + minutos + horas + dias\n",
    "    return milisegundos\n",
    "    \n",
    "    \n",
    "segundo = int(input(\"introduzca cantidad de segundo: \"))\n",
    "minuto = int(input(\"minutos: \"))\n",
    "hora = int(input(\"horas: \"))\n",
    "dia = int(input(\"dias: \"))\n",
    "\n",
    "print(\"Es un total de:\",Conversor(segundo,minuto,hora,dia),\"milisegundos\")"
   ]
  },
  {
   "cell_type": "markdown",
   "metadata": {},
   "source": [
    "iteration master #25"
   ]
  },
  {
   "cell_type": "code",
   "execution_count": 5,
   "metadata": {},
   "outputs": [
    {
     "name": "stdout",
     "output_type": "stream",
     "text": [
      "0\n",
      "1\n",
      "2\n",
      "3\n",
      "4\n",
      "5\n",
      "6\n",
      "7\n",
      "8\n",
      "9\n",
      "10\n",
      "11\n",
      "12\n",
      "13\n",
      "14\n",
      "15\n",
      "16\n",
      "17\n",
      "18\n",
      "19\n",
      "20\n",
      "21\n",
      "22\n",
      "23\n",
      "24\n",
      "25\n",
      "26\n",
      "27\n",
      "28\n",
      "29\n",
      "30\n",
      "31\n",
      "32\n",
      "33\n",
      "34\n",
      "35\n",
      "36\n",
      "37\n",
      "38\n",
      "39\n",
      "40\n",
      "41\n",
      "42\n",
      "43\n",
      "44\n",
      "45\n",
      "46\n",
      "47\n",
      "48\n",
      "49\n",
      "50\n",
      "51\n",
      "52\n",
      "53\n",
      "54\n",
      "55\n",
      "56\n",
      "57\n",
      "58\n",
      "59\n",
      "60\n",
      "61\n",
      "62\n",
      "63\n",
      "64\n",
      "65\n",
      "66\n",
      "67\n",
      "68\n",
      "69\n",
      "70\n",
      "71\n",
      "72\n",
      "73\n",
      "74\n",
      "75\n",
      "76\n",
      "77\n",
      "78\n",
      "79\n",
      "80\n",
      "81\n",
      "82\n",
      "83\n",
      "84\n",
      "85\n",
      "86\n",
      "87\n",
      "88\n",
      "89\n",
      "90\n",
      "91\n",
      "92\n",
      "93\n",
      "94\n",
      "95\n",
      "96\n",
      "97\n",
      "98\n",
      "99\n",
      "100\n",
      "0\n",
      "0\n"
     ]
    }
   ],
   "source": [
    "numero = 0 \n",
    "#1 manera\n",
    "while numero <= 100:\n",
    "    print(numero)\n",
    "    numero = numero + 1\n",
    "\n",
    "#2 manera\n",
    "numero2 = 0\n",
    "if numero2 <= 100:\n",
    "    print(numero2)\n",
    "    numero2 = numero2 + 1\n",
    "\n",
    "#3 manera\n",
    "\n",
    "numero3 = 0\n",
    "cantidad = len(str(numero3))\n",
    "\n",
    "if cantidad < 3:\n",
    "    print(numero3)\n",
    "    numero3 = numero3 + 1\n",
    "\n"
   ]
  },
  {
   "cell_type": "markdown",
   "metadata": {},
   "source": [
    "Piedra papel o tijera #26"
   ]
  },
  {
   "cell_type": "code",
   "execution_count": 15,
   "metadata": {},
   "outputs": [
    {
     "name": "stdout",
     "output_type": "stream",
     "text": [
      "-----Piedra, Papel o Tijera------\n",
      "Resultado: ganas\n"
     ]
    }
   ],
   "source": [
    "print(\"-----Piedra, Papel o Tijera------\")\n",
    "valor1 = input(\"introduce la primera jugada: \")\n",
    "valor2 = input(\"introduce la primera jugada: \")\n",
    "\n",
    "\n",
    "def reglas(valor1,valor2):\n",
    "    \n",
    "    #r = 0\n",
    "    #s = 1\n",
    "    #p = 2\n",
    "    \n",
    "    if valor1 == valor2:\n",
    "        return \"empate\"\n",
    "    elif valor1 == 0 and valor2 == 1:\n",
    "        return \"ganas\"\n",
    "    elif valor1 == 0 and valor2 == 2:\n",
    "        return \"pierdes\"\n",
    "    elif valor1 == 1 and valor2 == 0:\n",
    "        return \"pierdes\"\n",
    "    elif valor1 == 1 and valor2 == 2:\n",
    "        return \"ganas\"\n",
    "    elif valor1 == 2 and valor2 == 0:\n",
    "        return \"ganas\"\n",
    "    elif valor1 == 2 and valor2 == 1:\n",
    "        return \"pierdes\"\n",
    "\n",
    "def conversor(jugada):\n",
    "    \n",
    "    if jugada == \"piedra\":\n",
    "        return 0\n",
    "    elif jugada == \"tijera\":\n",
    "        return 1\n",
    "    elif jugada == \"papel\":\n",
    "        return 2\n",
    "    else:\n",
    "        print(\"introduzca de nuevo las jugadas\")\n",
    "\n",
    "\n",
    "     \n",
    "valor1 = conversor(valor1.strip().lower())\n",
    "valor2 = conversor(valor2.strip().lower())\n",
    "\n",
    "\n",
    "print(\"Resultado:\",reglas(valor1,valor2))\n",
    "\n",
    "\n",
    "\n",
    "\n"
   ]
  },
  {
   "cell_type": "markdown",
   "metadata": {},
   "source": [
    "Aqui el de chat gpt mejorado"
   ]
  },
  {
   "cell_type": "code",
   "execution_count": 17,
   "metadata": {},
   "outputs": [
    {
     "name": "stdout",
     "output_type": "stream",
     "text": [
      "Piedra, Papel o Tijera\n",
      "Resultado: Ganas\n"
     ]
    }
   ],
   "source": [
    "def obtener_jugada():\n",
    "    while True:\n",
    "        jugada = input(\"Introduce tu jugada (piedra, papel, tijera): \").strip().lower()\n",
    "        if jugada in [\"piedra\", \"papel\", \"tijera\"]:\n",
    "            return jugada\n",
    "        else:\n",
    "            print(\"Jugada no válida. Por favor, introduce piedra, papel o tijera.\")\n",
    "\n",
    "def conversor(jugada):\n",
    "    jugadas = {\"piedra\": 0, \"tijera\": 1, \"papel\": 2}\n",
    "    return jugadas[jugada]\n",
    "\n",
    "def reglas(valor1, valor2):\n",
    "    resultado = (valor1 - valor2) % 3\n",
    "    if resultado == 0:\n",
    "        return \"Empate\"\n",
    "    elif resultado == 1:\n",
    "        return \"Pierdes\"\n",
    "    else:\n",
    "        return \"Ganas\"\n",
    "\n",
    "print(\"Piedra, Papel o Tijera\")\n",
    "valor1 = obtener_jugada()\n",
    "valor2 = obtener_jugada()\n",
    "\n",
    "valor1_convertido = conversor(valor1)\n",
    "valor2_convertido = conversor(valor2)\n",
    "\n",
    "resultado = reglas(valor1_convertido, valor2_convertido)\n",
    "print(f\"Resultado: {resultado}\")\n"
   ]
  },
  {
   "cell_type": "code",
   "execution_count": 29,
   "metadata": {},
   "outputs": [
    {
     "name": "stdout",
     "output_type": "stream",
     "text": [
      "El segundo número más grande es: None\n"
     ]
    }
   ],
   "source": [
    "def segundo_mas_grande(lista):\n",
    "    # Elimina duplicados y ordena la lista en orden descendente\n",
    "    lista_unica = list(set(lista))\n",
    "    lista_unica.sort(reverse=True)\n",
    "\n",
    "\n",
    "numeros = 4,2,6,4,2,3\n",
    "resultado = segundo_mas_grande(numeros)\n",
    "print(f\"El segundo número más grande es: {resultado}\")\n",
    "\n",
    "\n",
    "\n",
    "    "
   ]
  },
  {
   "cell_type": "markdown",
   "metadata": {},
   "source": [
    "32 años bisiestos"
   ]
  },
  {
   "cell_type": "code",
   "execution_count": 8,
   "metadata": {},
   "outputs": [
    {
     "name": "stdout",
     "output_type": "stream",
     "text": [
      "1928\n",
      "1932\n",
      "1936\n",
      "1940\n",
      "1944\n",
      "1948\n",
      "1952\n",
      "1956\n",
      "1960\n",
      "1964\n",
      "1968\n",
      "1972\n",
      "1976\n",
      "1980\n",
      "1984\n",
      "1988\n",
      "1992\n",
      "1996\n",
      "2000\n",
      "2004\n",
      "2008\n",
      "2012\n",
      "2016\n",
      "2020\n",
      "2024\n",
      "2028\n",
      "2032\n",
      "2036\n",
      "2040\n",
      "2044\n"
     ]
    }
   ],
   "source": [
    "numero_dado = int(input(\"introduce un año: \"))\n",
    "\n",
    "while numero_dado % 4 != 0:\n",
    "    numero_dado += 1\n",
    "    \n",
    "for i in range(30):\n",
    "    print(numero_dado )\n",
    "    numero_dado = numero_dado + 4\n",
    "    "
   ]
  },
  {
   "cell_type": "markdown",
   "metadata": {},
   "source": [
    "33 El segundo"
   ]
  },
  {
   "cell_type": "code",
   "execution_count": 12,
   "metadata": {},
   "outputs": [
    {
     "name": "stdout",
     "output_type": "stream",
     "text": [
      "20\n"
     ]
    }
   ],
   "source": [
    "#max devuelve el mayor elemento.\n",
    "#min devuelve el menor elemento\n",
    "#reversed Devuelve un iterador que invierte el orden de los elementos en el iterable\n",
    "#sort Método específico de las listas que ordena los elementos de la lista en su lugar\n",
    "\n",
    "listado = [20,2,14,24,10]\n",
    "\n",
    "numeros_unicos = sorted(listado, reverse=True)\n",
    " \n",
    "if len(numeros_unicos) < 2:\n",
    "    print(\"no hay valores suficientes\")\n",
    "else:\n",
    "    print(numeros_unicos[1])\n",
    "    "
   ]
  },
  {
   "cell_type": "markdown",
   "metadata": {},
   "source": [
    "42 Ley de ohm"
   ]
  },
  {
   "cell_type": "code",
   "execution_count": 22,
   "metadata": {},
   "outputs": [
    {
     "data": {
      "text/plain": [
       "24.3"
      ]
     },
     "execution_count": 22,
     "metadata": {},
     "output_type": "execute_result"
    }
   ],
   "source": [
    "valor_I = 0\n",
    "valor_V = 0\n",
    "valor_R = 0\n",
    "\n",
    "valor_I = int(input(\"introduzca intesidad en caso de tener dato\"))\n",
    "valor_V = int(input(\"introduzca Voltaje en caso de tener dato\"))\n",
    "valor_R = int(input(\"introduzca Resistencia en caso de tener dato\"))\n",
    "\n",
    "input\n",
    "\n",
    "def Calculo_ohm(I,V,R):\n",
    "    try:\n",
    "        if I == 0 and V > 0 and R >0:\n",
    "            I = V / R\n",
    "            return I\n",
    "        elif V == 0 and R > 0 and I >0:\n",
    "            V = I * R\n",
    "            return V\n",
    "        elif R == 0 and V > 0 and I >0:\n",
    "            R = V/I\n",
    "            return R\n",
    "    except: ValueError \n",
    "    ValueError = print(\"Datos faltantes\")\n",
    "\n",
    "Calculo_ohm(valor_I,valor_V,valor_R)"
   ]
  },
  {
   "cell_type": "markdown",
   "metadata": {},
   "source": [
    "41 Triangulo de Pascal (Con CHAT GPT NO TENIA COJONES)"
   ]
  },
  {
   "cell_type": "code",
   "execution_count": 35,
   "metadata": {},
   "outputs": [
    {
     "name": "stdout",
     "output_type": "stream",
     "text": [
      "     1 \n",
      "    1 1 \n",
      "   1 2 1 \n",
      "  1 3 3 1 \n",
      " 1 4 6 4 1 \n"
     ]
    }
   ],
   "source": [
    "def triangulo_de_pascal(n):\n",
    "    # Crear una lista de listas para almacenar el triángulo\n",
    "    triangulo = []\n",
    "    \n",
    "    # Construir el triángulo fila por fila\n",
    "    for i in range(n):\n",
    "        # Crear una nueva fila con 1 al inicio\n",
    "        fila = [1] * (i + 1)\n",
    "        \n",
    "        # Calcular los valores dentro de la fila\n",
    "        for j in range(1, i):\n",
    "            fila[j] = triangulo[i-1][j-1] + triangulo[i-1][j]\n",
    "        \n",
    "        # Añadir la fila al triángulo\n",
    "        triangulo.append(fila)\n",
    "    \n",
    "    # Dibujar el triángulo con un formato apropiado\n",
    "    for i in range(n):\n",
    "        # Imprimir espacios para centrar el triángulo\n",
    "        print(' ' * (n - i), end='')\n",
    "        # Imprimir los valores de la fila\n",
    "        for j in triangulo[i]:\n",
    "            print(f\"{j} \", end='')\n",
    "        print()  # Nueva línea después de cada fila\n",
    "\n",
    "# Ejemplo de uso\n",
    "triangulo_de_pascal(5)\n"
   ]
  },
  {
   "cell_type": "markdown",
   "metadata": {},
   "source": [
    "#82 Caracter infiltrado"
   ]
  },
  {
   "cell_type": "code",
   "execution_count": 9,
   "metadata": {},
   "outputs": [
    {
     "data": {
      "text/plain": [
       "['a', 'o']"
      ]
     },
     "execution_count": 9,
     "metadata": {},
     "output_type": "execute_result"
    }
   ],
   "source": [
    "frasea = input(\"introduce primera frase\")\n",
    "fraseb = input(\"introduce segunda frase\")\n",
    "Palabras_no_iguales = []\n",
    "def hola(frase1,frase2):\n",
    "    if len(frase1) != len(frase2):\n",
    "        print(\"Las palabras tienen que tener la misma longitud\")\n",
    "\n",
    "    for i in range(len(frase1)):\n",
    "    \n",
    "        if frase1[i] != frase2[i]:\n",
    "        \n",
    "            Palabras_no_iguales.append(frase2[i])\n",
    "    return Palabras_no_iguales\n",
    "\n",
    "hola(frasea,fraseb)\n",
    "        \n",
    "        \n",
    "\n",
    "\n",
    "\n"
   ]
  },
  {
   "cell_type": "code",
   "execution_count": 6,
   "metadata": {},
   "outputs": [
    {
     "name": "stdout",
     "output_type": "stream",
     "text": [
      "['e', 'o']\n",
      "[' ', 'b', 'm']\n"
     ]
    }
   ],
   "source": [
    "def encontrar_diferencias(cadena1, cadena2):\n",
    "    diferencias = []\n",
    "    # Asegurarse de que ambas cadenas tengan la misma longitud\n",
    "    if len(cadena1) != len(cadena2):\n",
    "        raise ValueError(\"Las cadenas deben tener la misma longitud.\")\n",
    "    \n",
    "    # Recorrer cada caracter de las cadenas\n",
    "    for i in range(len(cadena1)):\n",
    "        # Comparar caracter a caracter\n",
    "        if cadena1[i] != cadena2[i]:\n",
    "            diferencias.append(cadena2[i])\n",
    "    \n",
    "    return diferencias\n",
    "\n",
    "# Ejemplos de uso\n",
    "cadena1 = \"Me llamo mouredev\"\n",
    "cadena2 = \"Me llemo mouredov\"\n",
    "print(encontrar_diferencias(cadena1, cadena2))  # Output: ['e', 'o']\n",
    "\n",
    "cadena1 = \"Me llamo.Brais Moure\"\n",
    "cadena2 = \"Me llamo brais moure\"\n",
    "print(encontrar_diferencias(cadena1, cadena2))  # Output: [' ', 'b', 'm']\n"
   ]
  },
  {
   "cell_type": "markdown",
   "metadata": {},
   "source": [
    "#93  Tabla de multiplicar"
   ]
  },
  {
   "cell_type": "code",
   "execution_count": 24,
   "metadata": {},
   "outputs": [
    {
     "name": "stdout",
     "output_type": "stream",
     "text": [
      "9  x  1 = 9\n",
      "9  x  2 = 18\n",
      "9  x  3 = 27\n",
      "9  x  4 = 36\n",
      "9  x  5 = 45\n",
      "9  x  6 = 54\n",
      "9  x  7 = 63\n",
      "9  x  8 = 72\n",
      "9  x  9 = 81\n",
      "9  x  10 = 90\n"
     ]
    }
   ],
   "source": [
    "numero = int(input(\"introduce un numero\"))\n",
    "multiplicador = 0\n",
    "while multiplicador < 10:\n",
    "    multiplicador = multiplicador + 1\n",
    "    resultado = numero * multiplicador\n",
    "    print(numero,\" x \",multiplicador,\"=\", resultado)\n",
    "    \n",
    "\n"
   ]
  },
  {
   "cell_type": "markdown",
   "metadata": {},
   "source": [
    "#100 La palabra de 100 puntos"
   ]
  },
  {
   "cell_type": "code",
   "execution_count": 29,
   "metadata": {},
   "outputs": [
    {
     "name": "stdout",
     "output_type": "stream",
     "text": [
      "0\n",
      "0\n",
      "0\n",
      "0\n",
      "0\n",
      "0\n",
      "['a', 'h', 'l', 'o']\n"
     ]
    }
   ],
   "source": [
    "abecedario = [\"a\",\"b\",\"c\",\"d\",\"e\",\"f\"]\n",
    "palabra = \"hola\"\n",
    "suma = 0\n",
    "for letra in abecedario:\n",
    "    valor = letra\n",
    "    \n",
    "    if letra == 0:\n",
    "        suma = suma + letra\n",
    "    \n",
    "    print(suma)\n",
    "         \n",
    "    \n",
    "print(sorted(palabra))\n"
   ]
  },
  {
   "cell_type": "code",
   "execution_count": 30,
   "metadata": {},
   "outputs": [
    {
     "name": "stdout",
     "output_type": "stream",
     "text": [
      "36\n"
     ]
    }
   ],
   "source": [
    "def calcular_puntos(palabra):\n",
    "    puntos = 0\n",
    "    for letra in palabra.upper():\n",
    "        if 'A' <= letra <= 'Z':\n",
    "            puntos += ord(letra) - ord('A') + 1\n",
    "    return puntos\n",
    "\n",
    "print(calcular_puntos(\"hola\"))"
   ]
  },
  {
   "cell_type": "markdown",
   "metadata": {},
   "source": [
    "#66 Adivina la palabra"
   ]
  },
  {
   "cell_type": "code",
   "execution_count": 37,
   "metadata": {},
   "outputs": [
    {
     "name": "stdout",
     "output_type": "stream",
     "text": [
      "Palabra a adivinar: _r__r___cio_\n",
      "Tienes 6 intentos.\n",
      "\n",
      "¡Bien hecho! La palabra ahora es: _r__r___cio_\n",
      "¡Bien hecho! La palabra ahora es: _r__ra_acio_\n",
      "¡Bien hecho! La palabra ahora es: _ro_ra_acio_\n",
      "¡Bien hecho! La palabra ahora es: _ro_ra_acio_\n",
      "¡Bien hecho! La palabra ahora es: _ro_ra_acio_\n",
      "¡Bien hecho! La palabra ahora es: pro_ra_acio_\n",
      "Letra incorrecta. Te quedan 5 intentos.\n",
      "Letra incorrecta. Te quedan 4 intentos.\n",
      "Letra incorrecta. Te quedan 3 intentos.\n",
      "Letra incorrecta. Te quedan 2 intentos.\n",
      "Letra incorrecta. Te quedan 1 intentos.\n",
      "Letra incorrecta. Te quedan 0 intentos.\n",
      "Lo siento, has perdido. La palabra era: programacion\n"
     ]
    }
   ],
   "source": [
    "import random\n",
    "\n",
    "def ocultar_palabra(palabra):\n",
    "    # Determinar el número máximo de letras que se pueden ocultar (60% de la longitud de la palabra)\n",
    "    max_ocultas = int(len(palabra) * 0.6)\n",
    "    # Elegir posiciones aleatorias para ocultar\n",
    "    posiciones_ocultas = random.sample(range(len(palabra)), max_ocultas)\n",
    "    \n",
    "    # Crear una nueva palabra con las letras ocultas\n",
    "    palabra_oculta = \"\".join(\"_\" if i in posiciones_ocultas else letra for i, letra in enumerate(palabra))\n",
    "    #Explicación del ejemplo:\n",
    "    #enumerate(palabra) genera los pares: [(0, 'p'), (1, 'y'), (2, 't'), (3, 'h'), (4, 'o'), (5, 'n')].\n",
    "    #El bucle comprueba cada índice:\n",
    "    #Para i = 0, letra = 'p', como 0 no está en posiciones_ocultas, se añade 'p' a la palabra resultante.\n",
    "    #Para i = 1, letra = 'y', como 1 sí está en posiciones_ocultas, se añade '_' a la palabra resultante.\n",
    "    #Y así sucesivamente para los demás caracteres.\n",
    "    return palabra_oculta\n",
    "\n",
    "def juego_adivinar_palabras():\n",
    "    palabras = [\"mouredev\", \"python\", \"juego\", \"programacion\", \"desarrollador\"]\n",
    "    palabra_seleccionada = random.choice(palabras)\n",
    "    palabra_oculta = ocultar_palabra(palabra_seleccionada)\n",
    "    \n",
    "    intentos = 6  # Número de intentos máximos\n",
    "    acertada = False\n",
    "    \n",
    "    print(f\"Palabra a adivinar: {palabra_oculta}\")\n",
    "    print(f\"Tienes {intentos} intentos.\\n\")\n",
    "\n",
    "    while intentos > 0 and not acertada:\n",
    "        intento = input(\"Introduce una letra o la palabra completa: \").lower()\n",
    "        \n",
    "        if len(intento) == 1:  # El jugador introdujo una letra\n",
    "            if intento in palabra_seleccionada:\n",
    "                # Mostrar las letras acertadas en la palabra oculta\n",
    "                palabra_oculta = \"\".join(\n",
    "                    letra if letra == intento or palabra_oculta[i] != \"_\" else \"_\"\n",
    "                    for i, letra in enumerate(palabra_seleccionada)\n",
    "                )\n",
    "                print(f\"¡Bien hecho! La palabra ahora es: {palabra_oculta}\")\n",
    "            else:\n",
    "                intentos -= 1\n",
    "                print(f\"Letra incorrecta. Te quedan {intentos} intentos.\")\n",
    "        elif len(intento) == len(palabra_seleccionada):  # El jugador intenta adivinar la palabra completa\n",
    "            if intento == palabra_seleccionada:\n",
    "                acertada = True\n",
    "                print(f\"¡Felicidades! Has adivinado la palabra: {palabra_seleccionada}\")\n",
    "            else:\n",
    "                intentos -= 1\n",
    "                print(f\"Palabra incorrecta. Te quedan {intentos} intentos.\")\n",
    "        else:\n",
    "            print(\"Entrada no válida. Debes introducir una letra o una palabra de la misma longitud que la palabra a adivinar.\")\n",
    "        \n",
    "        if \"_\" not in palabra_oculta:  # El jugador ha descubierto toda la palabra\n",
    "            acertada = True\n",
    "            print(f\"¡Felicidades! Has completado la palabra: {palabra_oculta}\")\n",
    "    \n",
    "    if not acertada:\n",
    "        print(f\"Lo siento, has perdido. La palabra era: {palabra_seleccionada}\")\n",
    "\n",
    "if __name__ == \"__main__\":\n",
    "    juego_adivinar_palabras()\n"
   ]
  },
  {
   "cell_type": "markdown",
   "metadata": {},
   "source": [
    "#13 Es Un palindromo?"
   ]
  },
  {
   "cell_type": "code",
   "execution_count": 10,
   "metadata": {},
   "outputs": [
    {
     "name": "stdout",
     "output_type": "stream",
     "text": [
      "['s', 'o', 'o']\n"
     ]
    }
   ],
   "source": [
    "Palabra = \"oso\"\n",
    "palindromo = False\n",
    "\n",
    "reversed_palabra = sorted(Palabra, reverse=True)\n",
    "print(reversed_palabra)\n",
    "\n"
   ]
  },
  {
   "cell_type": "markdown",
   "metadata": {},
   "source": [
    "Generador de contraseñas (reto propuesto por chat gpt)"
   ]
  },
  {
   "cell_type": "code",
   "execution_count": 1,
   "metadata": {},
   "outputs": [
    {
     "name": "stdout",
     "output_type": "stream",
     "text": [
      "71.@\n"
     ]
    }
   ],
   "source": [
    "import random\n",
    "\n",
    "numero_de_carazteres = int(input(\"cuantos carazteres quieres que tenga\"))\n",
    "simbolo_sn = input(\"simbolos s/n \")\n",
    "\n",
    "Palabra = []\n",
    "\n",
    "def generador(simbolo_sn):\n",
    "    letras = [\"a\",\"b\",\"c\",\"d\",\"e\",\"i\",\"p\",\"g\",\"o\",\"l\",]\n",
    "    numeros = [\"1\",\"2\",\"3\",\"4\",\"5\",\"7\",\"8\",\"9\",\"0\"]\n",
    "    simbolos = [\"@\",\".\",\"$\",\",\",\"_\",\"-\"]\n",
    "    lista_caracteres = []\n",
    "    \n",
    "    letra = random.choice(letras)\n",
    "    numero = random.choice(numeros)\n",
    "    simbolo = random.choice(simbolos)\n",
    "\n",
    "    \n",
    "    if simbolo_sn == \"s\":\n",
    "        lista_caracteres.append(simbolo)\n",
    "    \n",
    "    if random.choice([1,2]) == 2:\n",
    "        letra_mayuscula = letra.upper()\n",
    "        lista_caracteres.append(letra_mayuscula)\n",
    "    else:\n",
    "        lista_caracteres.append(letra)\n",
    "        \n",
    "    lista_caracteres.append(numero)\n",
    "    \n",
    "    caracter_escogido = random.choice(lista_caracteres)\n",
    "    return caracter_escogido\n",
    "    \n",
    "    \n",
    "while len(Palabra) < numero_de_carazteres:\n",
    "    Palabra.append(generador(simbolo_sn))\n",
    "    \n",
    "resultado = \"\".join(Palabra)\n",
    "\n",
    "print(resultado)"
   ]
  },
  {
   "cell_type": "code",
   "execution_count": 1,
   "metadata": {},
   "outputs": [
    {
     "name": "stdout",
     "output_type": "stream",
     "text": [
      "jqnc DWGPCU\n"
     ]
    }
   ],
   "source": [
    "texto = input(\"introduce un texto\")\n",
    "desplazamiento = int(input(\"introduce el numero de desplazamientos\"))\n",
    "\n",
    "def Cifrado_cesar(palabra,numero):\n",
    "    lista = []\n",
    "    for caracter in palabra:\n",
    "        if caracter != \" \":\n",
    "            \n",
    "            asci = ord(caracter)\n",
    "            numero_desplazado = asci + numero\n",
    "        \n",
    "            numero_transformado = chr(numero_desplazado)\n",
    "        \n",
    "            lista.append(numero_transformado)\n",
    "        else:\n",
    "            lista.append(\" \")\n",
    "        \n",
    "        \n",
    "        \n",
    "        \n",
    "    Palabra_cesar = \"\".join(lista)    \n",
    "    \n",
    "    \n",
    "    print(Palabra_cesar)\n",
    "        \n",
    "Cifrado_cesar(texto,desplazamiento)"
   ]
  },
  {
   "cell_type": "markdown",
   "metadata": {},
   "source": [
    "Reto: Cifrado por Transposición"
   ]
  },
  {
   "cell_type": "code",
   "execution_count": 25,
   "metadata": {},
   "outputs": [
    {
     "name": "stdout",
     "output_type": "stream",
     "text": [
      "['adz']\n",
      "['adz', 'hg<']\n",
      "['adz', 'hg<', 'srg']\n",
      "['adz', 'hg<', 'srg', '<sg']\n",
      "\n",
      "\n"
     ]
    }
   ],
   "source": [
    "texto = input(\"Escribe tu frase\").replace(\" \", \"\")\n",
    "columnas = int(input(\"numero de columnas\"))\n",
    "\n",
    "def cifrado(Frase,Colu):\n",
    "    lista_cifrado = []\n",
    "    cifrada = \"\"\n",
    "    letras = 1\n",
    "    for i in Frase:\n",
    "        \n",
    "        if  letras < Colu:\n",
    "            cifrada += i\n",
    "            letras += 1\n",
    "        elif letras == Colu:\n",
    "            \n",
    "            cifrada += i\n",
    "            lista_cifrado.append(cifrada)\n",
    "            cifrada = \"\"\n",
    "            letras = 1\n",
    "            print(lista_cifrado)\n",
    "\n",
    "    cifrada += \"\\n\"   \n",
    "            \n",
    "    return cifrada\n",
    "    \n",
    "\n",
    "print(cifrado(texto,columnas))\n",
    "            \n",
    "            \n",
    "    "
   ]
  },
  {
   "cell_type": "markdown",
   "metadata": {},
   "source": [
    "Juego tres en raya"
   ]
  },
  {
   "cell_type": "code",
   "execution_count": 37,
   "metadata": {},
   "outputs": [
    {
     "name": "stdout",
     "output_type": "stream",
     "text": [
      "-----Empieza el juego----- \n",
      " Cada numero correponde a una casilla \n",
      "\n",
      " 1|2|3\n",
      " ----- \n",
      " 4|5|6\n",
      " ----- \n",
      " 7|8|9\n"
     ]
    },
    {
     "ename": "TypeError",
     "evalue": "'NoneType' object is not iterable",
     "output_type": "error",
     "traceback": [
      "\u001b[1;31m---------------------------------------------------------------------------\u001b[0m",
      "\u001b[1;31mTypeError\u001b[0m                                 Traceback (most recent call last)",
      "Cell \u001b[1;32mIn[37], line 31\u001b[0m\n\u001b[0;32m     24\u001b[0m                 \u001b[38;5;28mself\u001b[39m\u001b[38;5;241m.\u001b[39mtodo\u001b[38;5;241m.\u001b[39minsert(\u001b[38;5;124m\"\u001b[39m\u001b[38;5;124mX\u001b[39m\u001b[38;5;124m\"\u001b[39m)\n\u001b[0;32m     25\u001b[0m                 \u001b[38;5;28mprint\u001b[39m(\u001b[38;5;28mself\u001b[39m\u001b[38;5;241m.\u001b[39mtodo)\n\u001b[1;32m---> 31\u001b[0m juego \u001b[38;5;241m=\u001b[39m \u001b[43mtres_en_raya\u001b[49m\u001b[43m(\u001b[49m\u001b[43m)\u001b[49m\n",
      "Cell \u001b[1;32mIn[37], line 8\u001b[0m, in \u001b[0;36mtres_en_raya.__init__\u001b[1;34m(self)\u001b[0m\n\u001b[0;32m      6\u001b[0m \u001b[38;5;28mself\u001b[39m\u001b[38;5;241m.\u001b[39mseparador \u001b[38;5;241m=\u001b[39m \u001b[38;5;124m\"\u001b[39m\u001b[38;5;124m-----\u001b[39m\u001b[38;5;124m\"\u001b[39m\n\u001b[0;32m      7\u001b[0m \u001b[38;5;28mself\u001b[39m\u001b[38;5;241m.\u001b[39mtodo \u001b[38;5;241m=\u001b[39m [\u001b[38;5;28mself\u001b[39m\u001b[38;5;241m.\u001b[39mprimerafila \u001b[38;5;241m+\u001b[39m \u001b[38;5;28mself\u001b[39m\u001b[38;5;241m.\u001b[39msegundafila \u001b[38;5;241m+\u001b[39m \u001b[38;5;28mself\u001b[39m\u001b[38;5;241m.\u001b[39mtercerafila]\n\u001b[1;32m----> 8\u001b[0m \u001b[38;5;28;43mself\u001b[39;49m\u001b[38;5;241;43m.\u001b[39;49m\u001b[43minicio_juego\u001b[49m\u001b[43m(\u001b[49m\u001b[43m)\u001b[49m\n",
      "Cell \u001b[1;32mIn[37], line 17\u001b[0m, in \u001b[0;36mtres_en_raya.inicio_juego\u001b[1;34m(self)\u001b[0m\n\u001b[0;32m     14\u001b[0m L_3 \u001b[38;5;241m=\u001b[39m \u001b[38;5;124m\"\u001b[39m\u001b[38;5;124m\"\u001b[39m\u001b[38;5;241m.\u001b[39mjoin(\u001b[38;5;28mself\u001b[39m\u001b[38;5;241m.\u001b[39mtercerafila)\n\u001b[0;32m     16\u001b[0m \u001b[38;5;28mprint\u001b[39m(\u001b[38;5;124mf\u001b[39m\u001b[38;5;124m\"\u001b[39m\u001b[38;5;124m-----Empieza el juego----- \u001b[39m\u001b[38;5;130;01m\\n\u001b[39;00m\u001b[38;5;124m Cada numero correponde a una casilla \u001b[39m\u001b[38;5;130;01m\\n\u001b[39;00m\u001b[38;5;130;01m\\n\u001b[39;00m\u001b[38;5;124m \u001b[39m\u001b[38;5;132;01m{\u001b[39;00mL_1\u001b[38;5;132;01m}\u001b[39;00m\u001b[38;5;130;01m\\n\u001b[39;00m\u001b[38;5;124m \u001b[39m\u001b[38;5;132;01m{\u001b[39;00m\u001b[38;5;28mself\u001b[39m\u001b[38;5;241m.\u001b[39mseparador\u001b[38;5;132;01m}\u001b[39;00m\u001b[38;5;124m \u001b[39m\u001b[38;5;130;01m\\n\u001b[39;00m\u001b[38;5;124m \u001b[39m\u001b[38;5;132;01m{\u001b[39;00mL_2\u001b[38;5;132;01m}\u001b[39;00m\u001b[38;5;130;01m\\n\u001b[39;00m\u001b[38;5;124m \u001b[39m\u001b[38;5;132;01m{\u001b[39;00m\u001b[38;5;28mself\u001b[39m\u001b[38;5;241m.\u001b[39mseparador\u001b[38;5;132;01m}\u001b[39;00m\u001b[38;5;124m \u001b[39m\u001b[38;5;130;01m\\n\u001b[39;00m\u001b[38;5;124m \u001b[39m\u001b[38;5;132;01m{\u001b[39;00mL_3\u001b[38;5;132;01m}\u001b[39;00m\u001b[38;5;124m\"\u001b[39m)\n\u001b[1;32m---> 17\u001b[0m \u001b[38;5;28;43mself\u001b[39;49m\u001b[38;5;241;43m.\u001b[39;49m\u001b[43mjugada\u001b[49m\u001b[43m(\u001b[49m\u001b[43m)\u001b[49m\n",
      "Cell \u001b[1;32mIn[37], line 21\u001b[0m, in \u001b[0;36mtres_en_raya.jugada\u001b[1;34m(self)\u001b[0m\n\u001b[0;32m     19\u001b[0m \u001b[38;5;28;01mdef\u001b[39;00m \u001b[38;5;21mjugada\u001b[39m(\u001b[38;5;28mself\u001b[39m):\n\u001b[0;32m     20\u001b[0m     tu_jugada \u001b[38;5;241m=\u001b[39m \u001b[38;5;28minput\u001b[39m(\u001b[38;5;124m\"\u001b[39m\u001b[38;5;124mintroduce tu jugada\u001b[39m\u001b[38;5;124m\"\u001b[39m)\n\u001b[1;32m---> 21\u001b[0m \u001b[43m    \u001b[49m\u001b[38;5;28;43;01mfor\u001b[39;49;00m\u001b[43m \u001b[49m\u001b[43mi\u001b[49m\u001b[43m \u001b[49m\u001b[38;5;129;43;01min\u001b[39;49;00m\u001b[43m \u001b[49m\u001b[38;5;28;43mself\u001b[39;49m\u001b[38;5;241;43m.\u001b[39;49m\u001b[43mtodo\u001b[49m\u001b[38;5;241;43m.\u001b[39;49m\u001b[43msort\u001b[49m\u001b[43m(\u001b[49m\u001b[43m)\u001b[49m\u001b[43m:\u001b[49m\n\u001b[0;32m     22\u001b[0m \u001b[43m        \u001b[49m\u001b[38;5;28;43;01mif\u001b[39;49;00m\u001b[43m \u001b[49m\u001b[43mtu_jugada\u001b[49m\u001b[43m \u001b[49m\u001b[38;5;241;43m==\u001b[39;49m\u001b[43m \u001b[49m\u001b[43mi\u001b[49m\u001b[43m:\u001b[49m\n\u001b[0;32m     23\u001b[0m \u001b[43m            \u001b[49m\u001b[38;5;28;43mself\u001b[39;49m\u001b[38;5;241;43m.\u001b[39;49m\u001b[43mtodo\u001b[49m\u001b[38;5;241;43m.\u001b[39;49m\u001b[43mremove\u001b[49m\u001b[43m(\u001b[49m\u001b[43mi\u001b[49m\u001b[43m)\u001b[49m\n",
      "\u001b[1;31mTypeError\u001b[0m: 'NoneType' object is not iterable"
     ]
    }
   ],
   "source": [
    "class tres_en_raya():\n",
    "    def __init__(self):\n",
    "        self.primerafila = [\"1\",\"|\",\"2\",\"|\",\"3\"]\n",
    "        self.segundafila = [\"4\",\"|\",\"5\",\"|\",\"6\"]\n",
    "        self.tercerafila = [\"7\",\"|\",\"8\",\"|\",\"9\"]\n",
    "        self.separador = \"-----\"\n",
    "        self.todo = [self.primerafila + self.segundafila + self.tercerafila]\n",
    "        self.inicio_juego()\n",
    "    \n",
    "    def inicio_juego(self):\n",
    "        \n",
    "        L_1 = \"\".join(self.primerafila)\n",
    "        L_2 = \"\".join(self.segundafila)\n",
    "        L_3 = \"\".join(self.tercerafila)\n",
    "        \n",
    "        print(f\"-----Empieza el juego----- \\n Cada numero correponde a una casilla \\n\\n {L_1}\\n {self.separador} \\n {L_2}\\n {self.separador} \\n {L_3}\")\n",
    "        self.jugada()\n",
    "        \n",
    "    def jugada(self):\n",
    "        tu_jugada = input(\"introduce tu jugada\")\n",
    "        for i in self.todo:\n",
    "            if tu_jugada == i:\n",
    "                self.todo.remove(i)\n",
    "                self.todo.insert(\"X\")\n",
    "                print(self.todo)\n",
    "            \n",
    "            \n",
    "            \n",
    "        \n",
    "    \n",
    "juego = tres_en_raya()"
   ]
  },
  {
   "cell_type": "markdown",
   "metadata": {},
   "source": [
    "MAQUINA TRAGAPERRAS"
   ]
  },
  {
   "cell_type": "code",
   "execution_count": 3,
   "metadata": {},
   "outputs": [
    {
     "name": "stdout",
     "output_type": "stream",
     "text": [
      "Tu puntuación actual es de: 100 puntos\n",
      "['🍋', '🍋', '🍋']\n",
      "¡Felicidades, has ganado un premio!\n",
      "Tu puntuación actual es de: 160 puntos\n",
      "['🍋', '💎', '🍒']\n",
      "Tu puntuación actual es de: 140 puntos\n",
      "['🍒', '🍋', '🍒']\n",
      "Tu puntuación actual es de: 120 puntos\n",
      "['💎', '💎', '🍒']\n",
      "Tu puntuación actual es de: 100 puntos\n",
      "['🍋', '🍋', '💎']\n",
      "Tu puntuación actual es de: 80 puntos\n",
      "['🍒', '💎', '🍋']\n",
      "Tu puntuación actual es de: 60 puntos\n",
      "['💎', '🍒', '🍒']\n",
      "Tu puntuación actual es de: 40 puntos\n",
      "['🍒', '🍒', '🍋']\n",
      "Tu puntuación actual es de: 20 puntos\n",
      "['💎', '🍋', '💎']\n",
      "Tu puntuación actual es de: 0 puntos\n",
      "No tienes puntos suficientes\n"
     ]
    }
   ],
   "source": [
    "import random\n",
    "\n",
    "frutas = [\"🍋\", \"🍒\", \"💎\"]\n",
    "puntuacion = 100\n",
    "\n",
    "def tirada():\n",
    "    premio = []\n",
    "    \n",
    "    for i in range(3):\n",
    "        fruta_seleccionada = random.choice(frutas)\n",
    "        premio.append(fruta_seleccionada)\n",
    "    \n",
    "    print(premio)\n",
    "    \n",
    "    # Verificar si los tres elementos de la lista son iguales\n",
    "    if premio[0] == premio[1] == premio[2]:\n",
    "        print(\"¡Felicidades, has ganado un premio!\")\n",
    "        return premio[0] # Devolvemos la fruta ganadora\n",
    "    else:\n",
    "        return None\n",
    "\n",
    "print(f\"Tu puntuación actual es de: {puntuacion} puntos\")\n",
    "\n",
    "while True:\n",
    "    jugar = input(\"¿Quieres jugar otra vez? (S/N): \")\n",
    "    if jugar.lower() == \"s\":\n",
    "        \n",
    "        if puntuacion >= 20:\n",
    "            puntuacion -= 20\n",
    "            \n",
    "            fruta_premiada = tirada()\n",
    "            if fruta_premiada == \"🍋\":\n",
    "                puntuacion += 80\n",
    "            elif fruta_premiada == \"🍒\":\n",
    "                puntuacion += 140\n",
    "            elif fruta_premiada == \"💎\":\n",
    "                puntuacion += 500\n",
    "            \n",
    "            print(f\"Tu puntuación actual es de: {puntuacion} puntos\")\n",
    "            \n",
    "        else:\n",
    "            print(\"No tienes puntos suficientes\")\n",
    "            break\n",
    "    else:\n",
    "        break\n"
   ]
  },
  {
   "cell_type": "markdown",
   "metadata": {},
   "source": [
    "RULETA"
   ]
  },
  {
   "cell_type": "code",
   "execution_count": 29,
   "metadata": {},
   "outputs": [
    {
     "name": "stdout",
     "output_type": "stream",
     "text": [
      "Tienes 500 dinero \n",
      "\n",
      "Girando ruelta....\n",
      " numero: 6 \n",
      " Tercio: 1 \n",
      " Color: negro \n",
      " Par o impar: Par\n",
      "Has perdido 100 de dinero\n",
      "Quieres seguir jugando? \n",
      "\n",
      "Tienes 400 dinero \n",
      "\n",
      "Girando ruelta....\n",
      " numero: 32 \n",
      " Tercio: 3 \n",
      " Color: negro \n",
      " Par o impar: Par\n",
      "Enhorabuena has ganado 900\n",
      "Quieres seguir jugando? \n",
      "\n",
      "Tienes 1300 dinero \n",
      "\n",
      "Girando ruelta....\n",
      " numero: 14 \n",
      " Tercio: 2 \n",
      " Color: negro \n",
      " Par o impar: Par\n",
      "Has perdido 300 de dinero\n",
      "Quieres seguir jugando? \n",
      "\n"
     ]
    }
   ],
   "source": [
    "import time\n",
    "import random\n",
    "\n",
    "\n",
    "numero_player = None\n",
    "color = None\n",
    "tercio = None\n",
    "par_impar = None\n",
    "numero_player = None\n",
    "Dinero = 500\n",
    "\n",
    "while True:\n",
    "    print(f\"Tienes {Dinero} euros \\n\" )\n",
    "    seleccion = input(\"Que quieres apostar: C = color, T = tercio, P = Par e impar  N = numero\")\n",
    "\n",
    "    if seleccion.lower() == \"c\":\n",
    "        color = input(\"seleccione color: R = rojo N = negro\")\n",
    "        if color.lower() == \"r\":\n",
    "            color = \"rojo\"\n",
    "        else:\n",
    "            color = \"negro\"\n",
    "    elif seleccion.lower() == \"t\":\n",
    "        tercio = input(\"seleccione Tercio: 1 = 0-12, 2 = 13-24, 3 = 25-36\")\n",
    "\n",
    "    elif seleccion.lower() == \"p\":\n",
    "        par_impar = input(\"Seleccione: P = par, I = impar\")\n",
    "    elif seleccion.lower() == \"n\":\n",
    "        numero_player = input(\"seleccione un numero\")\n",
    "\n",
    "\n",
    "    Cantidad = int(input(f\"Cuanto desea apostar, total disponible: {Dinero}\"))\n",
    "\n",
    "\n",
    "\n",
    "    def Girar_ruleta():\n",
    "        numero = random.randint(0,36)\n",
    "\n",
    "        if numero % 2 == 0:\n",
    "            Par = \"Par\"\n",
    "\n",
    "        else:\n",
    "            Par = \"Impar\"\n",
    "\n",
    "        for color in str(numero):\n",
    "            if color in [\"1\",\"3\",\"5\",\"7\",\"12\",\"14\",\"18\",\"19\",\"21\",\"23\",\"25\",\"27\",\"30\",\"32\",\"34\",\"36\"]:\n",
    "            \n",
    "                Color = \"rojo\"\n",
    "            else:\n",
    "                Color = \"negro\"\n",
    "\n",
    "        if numero <= 12:\n",
    "            Tercio = \"1\"\n",
    "        elif numero >= 13 and numero <= 24:\n",
    "            Tercio = \"2\"\n",
    "        elif numero >= 25:\n",
    "            Tercio = \"3\"\n",
    "\n",
    "\n",
    "\n",
    "        return Par,Color,Tercio,numero\n",
    "\n",
    "\n",
    "    Par, Color, Tercio, Numero = Girar_ruleta()\n",
    "\n",
    "\n",
    "\n",
    "    print(\"Girando ruelta....\")\n",
    "\n",
    "    time.sleep(3)\n",
    "\n",
    "    print(f\" numero: {Numero} \\n Tercio: {Tercio} \\n Color: {Color} \\n Par o impar: {Par}\")\n",
    "\n",
    "    if Numero == numero_player:\n",
    "                print(f\"Enhorabuena has ganado {Cantidad * 36}\")\n",
    "\n",
    "                Dinero += Cantidad *36\n",
    "    elif Color == color:\n",
    "                print(f\"Enhorabuena has ganado {Cantidad * 2}\")\n",
    "\n",
    "                Dinero += Cantidad *2\n",
    "    elif  Par == par_impar:\n",
    "                print(f\"Enhorabuena has ganado {Cantidad * 2}\")\n",
    "\n",
    "                Dinero += Cantidad *2\n",
    "\n",
    "    elif Tercio == tercio:\n",
    "                print(f\"Enhorabuena has ganado {Cantidad * 3}\")\n",
    "\n",
    "                Dinero += Cantidad * 3\n",
    "    else:\n",
    "        print(f\"Has perdido {Cantidad} euros\")\n",
    "        Dinero -= Cantidad    \n",
    "\n",
    "    print(\"Quieres seguir jugando? \\n\")\n",
    "    Jugar = input(\"S/N\").lower()\n",
    "    if Jugar == \"n\" or Dinero == 0:\n",
    "        break\n",
    "    else:\n",
    "        pass\n",
    "\n",
    "\n",
    "\n",
    "\n"
   ]
  },
  {
   "cell_type": "code",
   "execution_count": 1,
   "metadata": {},
   "outputs": [
    {
     "name": "stdout",
     "output_type": "stream",
     "text": [
      "GIRANDO RULETA....\n",
      "\n",
      "MARCOS\n"
     ]
    }
   ],
   "source": [
    "import random\n",
    "import time\n",
    "\n",
    "a=input()\n",
    "\n",
    "nombres = [\"GUILLE\",\"SAUL\",\"SIMON\",\"ADAY\",\"MARCOS\",\"MARIO\"]\n",
    "\n",
    "print(\"GIRANDO RULETA....\\n\")\n",
    "time.sleep(3)\n",
    "if a == \"1\":\n",
    "    print(nombres[0])\n",
    "else:\n",
    "    print(random.choice(nombres))"
   ]
  },
  {
   "cell_type": "markdown",
   "metadata": {},
   "source": [
    "Numeros pares"
   ]
  },
  {
   "cell_type": "code",
   "execution_count": 1,
   "metadata": {},
   "outputs": [
    {
     "name": "stdout",
     "output_type": "stream",
     "text": [
      "El numero es: 74\n",
      "[0, 2, 4, 6, 8, 10, 12, 14, 16, 18, 20, 22, 24, 26, 28, 30, 32, 34, 36, 38, 40, 42, 44, 46, 48, 50, 52, 54, 56, 58, 60, 62, 64, 66, 68, 70, 72]\n"
     ]
    }
   ],
   "source": [
    "import random\n",
    "\n",
    "numero = random.randint(0,100)\n",
    "lista = []\n",
    "\n",
    "\n",
    "print(f\"El numero es: {numero}\")\n",
    "\n",
    "for i in range(numero):\n",
    "    if i % 2 == 0:\n",
    "        lista.append(i)\n",
    "        \n",
    "print(lista)"
   ]
  },
  {
   "cell_type": "code",
   "execution_count": 3,
   "metadata": {},
   "outputs": [
    {
     "name": "stdout",
     "output_type": "stream",
     "text": [
      "['tardes', 'buenas', 'hola']\n"
     ]
    }
   ],
   "source": [
    "frase = \"hola buenas tardes\"\n",
    "\n",
    "palabras = frase.split()\n",
    "\n",
    "palabra_invertida = palabras[::-1]\n",
    "\n",
    "print(palabra_invertida)"
   ]
  },
  {
   "cell_type": "code",
   "execution_count": 2,
   "metadata": {},
   "outputs": [
    {
     "name": "stdout",
     "output_type": "stream",
     "text": [
      "jejaffpgriypbbubaw\n"
     ]
    }
   ],
   "source": [
    "import random\n",
    "\n",
    "L = 18\n",
    "M = False\n",
    "Caracter_especial = False\n",
    "\n",
    "\n",
    "\n",
    "def Generar_contraseña(Longitud,Mayusculas,Crter_spcl):\n",
    "    list_palabra = []\n",
    "    \n",
    "    for i in range(Longitud):\n",
    "        \n",
    "        \n",
    "        if Mayusculas == True and Crter_spcl == True:\n",
    "            numero_asci = random.randint(33,122)\n",
    "            numero = str(chr(numero_asci))\n",
    "            list_palabra.append(numero)\n",
    "            \n",
    "        elif Mayusculas == True and Crter_spcl == False:\n",
    "            numero_asci = random.randint(65,122)\n",
    "            numero = str(chr(numero_asci))\n",
    "            list_palabra.append(numero)\n",
    "            \n",
    "            \n",
    "        else:\n",
    "            numero_asci = random.randint(97,122)\n",
    "            numero = str(chr(numero_asci))\n",
    "            list_palabra.append(numero)\n",
    "\n",
    "    \n",
    "    palabra = \"\".join(list_palabra)\n",
    "    print (palabra)\n",
    "        \n",
    "        \n",
    "\n",
    "\n",
    "\n",
    "Generar_contraseña(L,M,Caracter_especial)"
   ]
  },
  {
   "cell_type": "markdown",
   "metadata": {},
   "source": [
    "Hacer cuadrados con asteriscos"
   ]
  },
  {
   "cell_type": "code",
   "execution_count": 1,
   "metadata": {},
   "outputs": [
    {
     "name": "stdout",
     "output_type": "stream",
     "text": [
      "* * * * * \n",
      "* * * * * \n",
      "* * * * * \n",
      "* * * * * \n",
      "* * * * * \n",
      "\n",
      "\n",
      "   *\n",
      "  ***\n",
      " *****\n",
      "*******\n"
     ]
    }
   ],
   "source": [
    "def cuadrado():\n",
    "    \n",
    "        for r in range(5):\n",
    "            print(\"* \"*5)\n",
    "            \n",
    "def Triangulo():\n",
    "    for i in range(1, 4 + 1):\n",
    "        espacios = \" \" * (4 - i)\n",
    "        asteriscos = \"*\" * (2 * i - 1)\n",
    "        print(espacios + asteriscos)\n",
    "        \n",
    "def rombo():\n",
    "    for i in range(1,4+1):\n",
    "        espacios = \" \" * (4-i)\n",
    "        asteriscos = \"*\" * (2 *i-1)\n",
    "cuadrado()\n",
    "print(\"\\n\")\n",
    "\n",
    "Triangulo()"
   ]
  },
  {
   "cell_type": "code",
   "execution_count": null,
   "metadata": {},
   "outputs": [
    {
     "name": "stdout",
     "output_type": "stream",
     "text": [
      "x o o o x \n",
      "o x o x o \n",
      "o o x o o \n",
      "o x o x o \n",
      "x o o o x \n"
     ]
    }
   ],
   "source": [
    "longitud = input(\"Introduce longitud\")\n",
    "\n",
    "for i in range(longitud):\n",
    "    cadena = list(\"o \"* longitud)\n",
    "    cadena[i*2] = \"x\"\n",
    "    cadena[len(cadena) - 2 - i * 2] =\"x\"\n",
    "    print(\"\".join(cadena))\n",
    "    "
   ]
  },
  {
   "cell_type": "code",
   "execution_count": null,
   "metadata": {},
   "outputs": [
    {
     "ename": "TypeError",
     "evalue": "'int' object is not iterable",
     "output_type": "error",
     "traceback": [
      "\u001b[1;31m---------------------------------------------------------------------------\u001b[0m",
      "\u001b[1;31mTypeError\u001b[0m                                 Traceback (most recent call last)",
      "Cell \u001b[1;32mIn[1], line 2\u001b[0m\n\u001b[0;32m      1\u001b[0m numero \u001b[38;5;241m=\u001b[39m \u001b[38;5;28mint\u001b[39m(\u001b[38;5;28minput\u001b[39m(\u001b[38;5;124m\"\u001b[39m\u001b[38;5;124mintroduce un numero\u001b[39m\u001b[38;5;124m\"\u001b[39m))\n\u001b[1;32m----> 2\u001b[0m lis_numero \u001b[38;5;241m=\u001b[39m \u001b[38;5;28;43mlist\u001b[39;49m\u001b[43m(\u001b[49m\u001b[43mnumero\u001b[49m\u001b[43m)\u001b[49m\n\u001b[0;32m      4\u001b[0m \u001b[38;5;28mprint\u001b[39m(lis_numero)\n",
      "\u001b[1;31mTypeError\u001b[0m: 'int' object is not iterable"
     ]
    }
   ],
   "source": [
    "numero = int(input(\"introduce un numero\"))\n",
    "lis_numero = list(numero)\n",
    "\n",
    "print(lis_numero)"
   ]
  }
 ],
 "metadata": {
  "kernelspec": {
   "display_name": "Python 3",
   "language": "python",
   "name": "python3"
  },
  "language_info": {
   "codemirror_mode": {
    "name": "ipython",
    "version": 3
   },
   "file_extension": ".py",
   "mimetype": "text/x-python",
   "name": "python",
   "nbconvert_exporter": "python",
   "pygments_lexer": "ipython3",
   "version": "3.11.9"
  }
 },
 "nbformat": 4,
 "nbformat_minor": 2
}
